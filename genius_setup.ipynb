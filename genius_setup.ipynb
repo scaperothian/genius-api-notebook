{
 "cells": [
  {
   "cell_type": "markdown",
   "id": "f81fbc5e-e8d2-46a8-948d-2cbfbc372646",
   "metadata": {},
   "source": [
    "## Genius Lyrics Setup\n",
    "https://lyricsgenius.readthedocs.io/en/master/usage.html"
   ]
  },
  {
   "cell_type": "code",
   "execution_count": 2,
   "id": "1c0883f0-47ab-4a44-b263-f7ce280a5c10",
   "metadata": {},
   "outputs": [
    {
     "name": "stdout",
     "output_type": "stream",
     "text": [
      "Searching for \"Lemonade\"...\n"
     ]
    }
   ],
   "source": [
    "from lyricsgenius import Genius\n",
    "api_key=\"\"\n",
    "genius = Genius(api_key)\n",
    "albums = genius.search_album(\"Lemonade\")"
   ]
  },
  {
   "cell_type": "code",
   "execution_count": 3,
   "id": "f6bbc89f-0fa6-48de-a91e-71e5ad2fb576",
   "metadata": {},
   "outputs": [
    {
     "name": "stdout",
     "output_type": "stream",
     "text": [
      "Album Found: Lemonade by Beyoncé\n"
     ]
    }
   ],
   "source": [
    "print(f\"Album Found: {albums.name} by {albums.artist.name}\")"
   ]
  },
  {
   "cell_type": "code",
   "execution_count": 4,
   "id": "44e17c5d-5dbc-402f-8a0b-a61f525e1f81",
   "metadata": {},
   "outputs": [
    {
     "name": "stderr",
     "output_type": "stream",
     "text": [
      "/opt/homebrew/anaconda3/envs/lyricsgenius/lib/python3.10/site-packages/IPython/core/display.py:606: UserWarning: JSON expects JSONable dict or list, not JSON strings\n",
      "  warnings.warn(\"JSON expects JSONable dict or list, not JSON strings\")\n"
     ]
    },
    {
     "data": {
      "application/json": {
       "number": 2,
       "song": {
        "_type": "song",
        "annotation_count": 17,
        "api_path": "/songs/2461219",
        "artist": "Beyoncé",
        "artist_names": "Beyoncé",
        "featured_artists": [],
        "full_title": "Hold Up by Beyoncé",
        "header_image_thumbnail_url": "https://images.genius.com/a3d37224b198b04540edfa359746f67e.300x169x1.jpg",
        "header_image_url": "https://images.genius.com/a3d37224b198b04540edfa359746f67e.1000x563x1.jpg",
        "id": 2461219,
        "instrumental": false,
        "lyrics": "149 ContributorsTranslationsEspañolPortuguêsHold Up Lyrics[Chorus]\nHold up, they don't love you like I love you\nSlow down, they don't love you like I love you\nBack up, they don't love you like I love you\nStep down, they don't love you like I love you\nCan't you see there's no other man above you?\nWhat a wicked way to treat the girl that loves you\nHold up, they don't love you like I love you\nOh, down, they don't love you like I love you\n\n[Verse 1]\nSomething don't feel right because it ain't right\nEspecially comin' up after midnight\nI smell your secrets, and I'm not too perfect\nTo ever feel this worthless\nHow did it come down to this? Scrolling through your call list\nI don't wanna lose my pride, but I'ma fuck me up a bitch\nKnow that I kept it sexy, you know I kept it fun\nThere's something that I'm missing, maybe my head for one\n[Refrain]\nWhat's worst, lookin' jealous or crazy? Jealous or crazy?\nOr like being walked all over lately, walked all over lately\nI'd rather be crazy\n\n[Chorus]\nHold up, they don't love you like I love you\nSlow down, they don't love you like I love you\nBack up, they don't love you like I love you\nStep down, they don't love you like I love you\nCan't you see there's no other man above you?\nWhat a wicked way to treat the girl that loves you\nHold up, they don't love you like I love you\nSlow down, they don't love you like I love you\nSee Beyoncé LiveGet tickets as low as $156You might also like[Verse 2]\nLet's imagine for a moment that you never made a name for yourself\nOr mastered wealth, they had you labeled as a king\nNever made it out the cage, still out there movin' in them streets\nNever had the baddest woman in the game up in your sheets\nWould they be down to ride? No\nThey used to hide from you, lie to you\nBut y'all know we were made for each other\nSo I find you and hold you down\nMe sing se\n\n[Chorus]\nHold up, they don't love you like I love you\nSlow down, they don't love you like I love you\nBack up, they don't love you like I love you\nStep down, they don't love you like I love you\nCan't you see there's no other man above you?\nWhat a wicked way to treat the girl that loves you\nHold up, they don't love you like I love you\nSlow down, they don't love you like I love you\n[Bridge]\nHey, this such a shame\nYou let this good love go to waste\nI always keep the top tier, 5 star\nBackseat lovin' in the car\nLike make that wood, like make that wood\nHolly like a boulevard\n[Refrain]\nWhat's worse, lookin' jealous or crazy? Jealous and crazy?\nOr like being walked all over lately, walked all over lately\nI'd rather be crazy\n\n[Chorus]\nHold up, they don't love you like I love you\nSlow down, they don't love you like I love you\nBack up, they don't love you like I love you\nStep down, they don't love you like I love you\nCan't you see there's no other man above you?\nWhat a wicked way to treat the girl that loves you\nHold up, they don't love you like I love you\nOh, down, they don't love you like I love you\n\n[Outro]\nI hop up out my bed and get my swag on\nI look in the mirror, say, \"What's up?\"\nWhat's up, what's up, what's up\nI hop up out my bed and get my swag on\nI look in the mirror, say, \"What's up?\"\nWhat's up, what's up, what's up101Embed",
        "lyrics_owner_id": 104344,
        "lyrics_state": "complete",
        "lyrics_updated_at": 1641774394,
        "path": "/Beyonce-hold-up-lyrics",
        "primary_artist": {
         "_type": "artist",
         "api_path": "/artists/498",
         "header_image_url": "https://images.genius.com/b21fd030df2f108773649c3984088c2d.1000x334x1.jpg",
         "id": 498,
         "image_url": "https://images.genius.com/46f615d1e828355795a41165d5719467.640x640x1.jpg",
         "index_character": "b",
         "is_meme_verified": false,
         "is_verified": false,
         "name": "Beyoncé",
         "slug": "Beyonce",
         "url": "https://genius.com/artists/Beyonce"
        },
        "pyongs_count": 101,
        "relationships_index_url": "https://genius.com/Beyonce-hold-up-sample",
        "release_date_components": {
         "day": 23,
         "month": 4,
         "year": 2016
        },
        "release_date_for_display": "April 23, 2016",
        "release_date_with_abbreviated_month_for_display": "Apr. 23, 2016",
        "song_art_image_thumbnail_url": "https://images.genius.com/e29d3e9b0c7fb0aeaf2777f935e7f4e3.300x300x1.jpg",
        "song_art_image_url": "https://images.genius.com/e29d3e9b0c7fb0aeaf2777f935e7f4e3.500x500x1.jpg",
        "stats": {
         "hot": false,
         "pageviews": 1900719,
         "unreviewed_annotations": 2
        },
        "title": "Hold Up",
        "title_with_featured": "Hold Up",
        "updated_by_human_at": 1690542019,
        "url": "https://genius.com/Beyonce-hold-up-lyrics"
       }
      },
      "text/plain": [
       "<IPython.core.display.JSON object>"
      ]
     },
     "execution_count": 4,
     "metadata": {
      "application/json": {
       "expanded": true,
       "root": "root"
      }
     },
     "output_type": "execute_result"
    }
   ],
   "source": [
    "from IPython.display import JSON\n",
    "obj = albums.tracks[1].to_json()\n",
    "JSON(obj, expanded=True)"
   ]
  }
 ],
 "metadata": {
  "kernelspec": {
   "display_name": "lyricsgenius",
   "language": "python",
   "name": "lyricsgenius"
  },
  "language_info": {
   "codemirror_mode": {
    "name": "ipython",
    "version": 3
   },
   "file_extension": ".py",
   "mimetype": "text/x-python",
   "name": "python",
   "nbconvert_exporter": "python",
   "pygments_lexer": "ipython3",
   "version": "3.10.13"
  }
 },
 "nbformat": 4,
 "nbformat_minor": 5
}
